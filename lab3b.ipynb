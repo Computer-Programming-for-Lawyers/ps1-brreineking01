{
 "cells": [
  {
   "cell_type": "code",
   "execution_count": null,
   "metadata": {
    "vscode": {
     "languageId": "plaintext"
    }
   },
   "outputs": [],
   "source": [
    "# Hashing\n",
    "\n",
    "# Encryption/Databasing 101: Hash Values\n",
    "# Also: Intro to Libraries.\n",
    "import cplhash as chash\n",
    "import matplotlib as mp\n",
    "\n",
    "print(chash.md5_hash('foo'))\n",
    "print(chash.short_hash('foo'))\n",
    "\n",
    "\n",
    "import(cplhasg) as chash\n",
    "\n",
    "\n",
    "# Find a hash collision.\n",
    "\n",
    "# Characteristics of Hashing\n",
    "# Stable\n",
    "# Fickle\n",
    "# Unidirectional"
   ]
  },
  {
   "cell_type": "code",
   "execution_count": null,
   "metadata": {},
   "outputs": [],
   "source": [
    "import(cplhash) as chash\n",
    "\n",
    "import(matplotlib) as mp \n",
    "\n",
    "print(chash.short_hash) "
   ]
  }
 ],
 "metadata": {
  "language_info": {
   "name": "python"
  }
 },
 "nbformat": 4,
 "nbformat_minor": 2
}
